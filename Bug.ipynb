{
 "cells": [
  {
   "cell_type": "markdown",
   "metadata": {},
   "source": [
    "### Introduction\n",
    "\n",
    "The following cells should succeed, and show that the LLVM library is loaded correctly and can execute commands"
   ]
  },
  {
   "cell_type": "code",
   "execution_count": 1,
   "metadata": {},
   "outputs": [],
   "source": [
    "import LLVM\n",
    "import LLVM.Target\n",
    "import qualified LLVM.Relocation                                    as RelocationModel\n",
    "import qualified LLVM.CodeModel                                     as CodeModel\n",
    "import qualified LLVM.CodeGenOpt                                    as CodeOptimisation"
   ]
  },
  {
   "cell_type": "code",
   "execution_count": 2,
   "metadata": {},
   "outputs": [
    {
     "data": {
      "text/plain": [
       "\"x86_64-apple-darwin18.2.0\""
      ]
     },
     "metadata": {},
     "output_type": "display_data"
    }
   ],
   "source": [
    "nativeTargetTriple <- getProcessTargetTriple\n",
    "nativeTargetTriple"
   ]
  },
  {
   "cell_type": "code",
   "execution_count": 3,
   "metadata": {},
   "outputs": [
    {
     "data": {
      "text/plain": [
       "\"skylake\""
      ]
     },
     "metadata": {},
     "output_type": "display_data"
    }
   ],
   "source": [
    "nativeCPUName <- getHostCPUName\n",
    "nativeCPUName"
   ]
  },
  {
   "cell_type": "code",
   "execution_count": 6,
   "metadata": {},
   "outputs": [],
   "source": [
    "initializeNativeTarget\n",
    "nativeCPUFeatures <- getHostCPUFeatures\n",
    "(nativeTarget, _) <- lookupTarget Nothing nativeTargetTriple"
   ]
  },
  {
   "cell_type": "markdown",
   "metadata": {},
   "source": [
    "### The Bug\n",
    "\n",
    "The following fails for some reason, in the call to [`FFI.createTargetOptions`](http://hackage.haskell.org/package/llvm-hs-8.0.0/docs/src/LLVM.Internal.FFI.Target.html#createTargetOptions) (part of [`withTargetOptions`](http://hackage.haskell.org/package/llvm-hs-8.0.0/docs/LLVM-Target.html#v:withTargetOptions)) whose corresponding C++ code is [here](https://github.com/llvm-hs/llvm-hs/blob/601443f123cb387ee0dc2279454abc9b8521a2b8/llvm-hs/src/LLVM/Internal/FFI/TargetC.cpp#L256)."
   ]
  },
  {
   "cell_type": "code",
   "execution_count": null,
   "metadata": {},
   "outputs": [],
   "source": [
    "import LLVM.Internal.Target\n",
    "import qualified LLVM.Internal.FFI.Target as FFI\n",
    "\n",
    "-- withTargetOptions $ \\targetOptions ->\n",
    "--   putStrLn \"I did a thing!\"\n",
    "\n",
    "FFI.createTargetOptions"
   ]
  },
  {
   "cell_type": "code",
   "execution_count": null,
   "metadata": {},
   "outputs": [],
   "source": []
  }
 ],
 "metadata": {
  "kernelspec": {
   "display_name": "Haskell",
   "language": "haskell",
   "name": "haskell"
  },
  "language_info": {
   "codemirror_mode": "ihaskell",
   "file_extension": ".hs",
   "name": "haskell",
   "pygments_lexer": "Haskell",
   "version": "8.4.4"
  }
 },
 "nbformat": 4,
 "nbformat_minor": 2
}
